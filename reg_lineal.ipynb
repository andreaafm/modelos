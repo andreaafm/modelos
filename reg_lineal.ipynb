{
 "cells": [
  {
   "cell_type": "markdown",
   "id": "e0c015b3",
   "metadata": {},
   "source": [
    "<h1 style=\"text-align:center;color:Green\">Regresion Lineal</h1>"
   ]
  },
  {
   "cell_type": "markdown",
   "id": "7d8842b1",
   "metadata": {},
   "source": [
    "<h3 style=\"color:blue\">1. Modelo con datos simulados</h3>"
   ]
  },
  {
   "cell_type": "code",
   "execution_count": 221,
   "id": "3127fb39",
   "metadata": {},
   "outputs": [],
   "source": [
    "import pandas as pd\n",
    "import numpy as np\n",
    "import matplotlib.pyplot as plt"
   ]
  },
  {
   "cell_type": "markdown",
   "id": "b495fe53",
   "metadata": {},
   "source": [
    "* y = a + b*x\n",
    "* x: 200 valores N(1.5,2.5)\n",
    "* Ye = 5 + 1.9*x + e\n",
    "* e distribuida según N(o,0.8)"
   ]
  },
  {
   "cell_type": "code",
   "execution_count": 222,
   "id": "cbc2fb67",
   "metadata": {},
   "outputs": [],
   "source": [
    "#N(1.5, 2.5)\n",
    "x = 1.5 + 2.5 * np.random.randn(200)"
   ]
  },
  {
   "cell_type": "code",
   "execution_count": 223,
   "id": "f32756b0",
   "metadata": {},
   "outputs": [],
   "source": [
    "#errores media 0 y desviacion tipica 0.8\n",
    "res = 0 + 0.8 * np.random.randn(200)"
   ]
  },
  {
   "cell_type": "code",
   "execution_count": 224,
   "id": "ad69af4b",
   "metadata": {},
   "outputs": [],
   "source": [
    "# prediccion (modelo lineal)\n",
    "y_pred = 5 + 1.9 * x"
   ]
  },
  {
   "cell_type": "code",
   "execution_count": 225,
   "id": "cd6f16cf",
   "metadata": {},
   "outputs": [],
   "source": [
    "# actual (observacion real)\n",
    "y_act = 5 + 1.9 * x + res"
   ]
  },
  {
   "cell_type": "code",
   "execution_count": 226,
   "id": "dbafaf9e",
   "metadata": {},
   "outputs": [],
   "source": [
    "x_list = x.tolist()\n",
    "y_pred_list = y_pred.tolist()\n",
    "y_act_list = y_act.tolist()"
   ]
  },
  {
   "cell_type": "code",
   "execution_count": 227,
   "id": "225b4ad8",
   "metadata": {},
   "outputs": [],
   "source": [
    "df = pd.DataFrame(\n",
    "      {\n",
    "          'x' : x_list,\n",
    "          'y_actual' : y_act_list, \n",
    "          'y_prediccion' : y_pred_list\n",
    "      }\n",
    ")"
   ]
  },
  {
   "cell_type": "code",
   "execution_count": 228,
   "id": "5ebe8657",
   "metadata": {
    "scrolled": true
   },
   "outputs": [
    {
     "data": {
      "text/html": [
       "<div>\n",
       "<style scoped>\n",
       "    .dataframe tbody tr th:only-of-type {\n",
       "        vertical-align: middle;\n",
       "    }\n",
       "\n",
       "    .dataframe tbody tr th {\n",
       "        vertical-align: top;\n",
       "    }\n",
       "\n",
       "    .dataframe thead th {\n",
       "        text-align: right;\n",
       "    }\n",
       "</style>\n",
       "<table border=\"1\" class=\"dataframe\">\n",
       "  <thead>\n",
       "    <tr style=\"text-align: right;\">\n",
       "      <th></th>\n",
       "      <th>x</th>\n",
       "      <th>y_actual</th>\n",
       "      <th>y_prediccion</th>\n",
       "    </tr>\n",
       "  </thead>\n",
       "  <tbody>\n",
       "    <tr>\n",
       "      <th>0</th>\n",
       "      <td>1.146998</td>\n",
       "      <td>6.944500</td>\n",
       "      <td>7.179297</td>\n",
       "    </tr>\n",
       "    <tr>\n",
       "      <th>1</th>\n",
       "      <td>5.294382</td>\n",
       "      <td>14.526034</td>\n",
       "      <td>15.059326</td>\n",
       "    </tr>\n",
       "    <tr>\n",
       "      <th>2</th>\n",
       "      <td>3.207538</td>\n",
       "      <td>11.557430</td>\n",
       "      <td>11.094323</td>\n",
       "    </tr>\n",
       "    <tr>\n",
       "      <th>3</th>\n",
       "      <td>4.922637</td>\n",
       "      <td>14.711045</td>\n",
       "      <td>14.353010</td>\n",
       "    </tr>\n",
       "    <tr>\n",
       "      <th>4</th>\n",
       "      <td>5.130077</td>\n",
       "      <td>14.110487</td>\n",
       "      <td>14.747146</td>\n",
       "    </tr>\n",
       "  </tbody>\n",
       "</table>\n",
       "</div>"
      ],
      "text/plain": [
       "          x   y_actual  y_prediccion\n",
       "0  1.146998   6.944500      7.179297\n",
       "1  5.294382  14.526034     15.059326\n",
       "2  3.207538  11.557430     11.094323\n",
       "3  4.922637  14.711045     14.353010\n",
       "4  5.130077  14.110487     14.747146"
      ]
     },
     "execution_count": 228,
     "metadata": {},
     "output_type": "execute_result"
    }
   ],
   "source": [
    "df.head()"
   ]
  },
  {
   "cell_type": "code",
   "execution_count": 229,
   "id": "eec0d752",
   "metadata": {},
   "outputs": [],
   "source": [
    "y_prom = [np.mean(y_act) for i in range(1, len(x_list)+1)]"
   ]
  },
  {
   "cell_type": "code",
   "execution_count": 230,
   "id": "b8552d04",
   "metadata": {},
   "outputs": [
    {
     "data": {
      "text/plain": [
       "Text(0.5, 1.0, 'Valor Real vs Prediccion')"
      ]
     },
     "execution_count": 230,
     "metadata": {},
     "output_type": "execute_result"
    },
    {
     "data": {
      "image/png": "[encoded data removed]",
      "text/plain": [
       "<Figure size 432x288 with 1 Axes>"
      ]
     },
     "metadata": {
      "needs_background": "light"
     },
     "output_type": "display_data"
    }
   ],
   "source": [
    "%matplotlib inline\n",
    "plt.plot(df['x'], df['y_prediccion'])\n",
    "plt.plot(df['x'], df['y_actual'],'ro') #grafica de puntos\n",
    "plt.plot(df['x'], y_prom, 'g')\n",
    "plt.title('Valor Real vs Prediccion')"
   ]
  },
  {
   "cell_type": "markdown",
   "id": "66146b89",
   "metadata": {},
   "source": [
    "**Uno de los indicadores que nos permite saber la efectividad del modelo es R2 para poder obtenerlo incorporaremos al df:**\n",
    "\n",
    "   * Suma de los cuadrados de la regresion\n",
    "   * Suma de los cuadrados de la diferencia\n",
    "   * Suma de los cuadrados totales"
   ]
  },
  {
   "cell_type": "code",
   "execution_count": 231,
   "id": "bdd166b7",
   "metadata": {},
   "outputs": [],
   "source": [
    "df['SSR'] = (df['y_prediccion']-np.mean(y_act))**2\n",
    "df['SSD'] = (df['y_prediccion']-df['y_actual'])**2\n",
    "df['SST'] = (df['y_actual']-np.mean(y_act))**2"
   ]
  },
  {
   "cell_type": "code",
   "execution_count": 232,
   "id": "b925bf93",
   "metadata": {},
   "outputs": [
    {
     "data": {
      "text/html": [
       "<div>\n",
       "<style scoped>\n",
       "    .dataframe tbody tr th:only-of-type {\n",
       "        vertical-align: middle;\n",
       "    }\n",
       "\n",
       "    .dataframe tbody tr th {\n",
       "        vertical-align: top;\n",
       "    }\n",
       "\n",
       "    .dataframe thead th {\n",
       "        text-align: right;\n",
       "    }\n",
       "</style>\n",
       "<table border=\"1\" class=\"dataframe\">\n",
       "  <thead>\n",
       "    <tr style=\"text-align: right;\">\n",
       "      <th></th>\n",
       "      <th>x</th>\n",
       "      <th>y_actual</th>\n",
       "      <th>y_prediccion</th>\n",
       "      <th>SSR</th>\n",
       "      <th>SSD</th>\n",
       "      <th>SST</th>\n",
       "    </tr>\n",
       "  </thead>\n",
       "  <tbody>\n",
       "    <tr>\n",
       "      <th>0</th>\n",
       "      <td>1.146998</td>\n",
       "      <td>6.944500</td>\n",
       "      <td>7.179297</td>\n",
       "      <td>0.388400</td>\n",
       "      <td>0.055129</td>\n",
       "      <td>0.736188</td>\n",
       "    </tr>\n",
       "    <tr>\n",
       "      <th>1</th>\n",
       "      <td>5.294382</td>\n",
       "      <td>14.526034</td>\n",
       "      <td>15.059326</td>\n",
       "      <td>52.661314</td>\n",
       "      <td>0.284400</td>\n",
       "      <td>45.205719</td>\n",
       "    </tr>\n",
       "    <tr>\n",
       "      <th>2</th>\n",
       "      <td>3.207538</td>\n",
       "      <td>11.557430</td>\n",
       "      <td>11.094323</td>\n",
       "      <td>10.836006</td>\n",
       "      <td>0.214468</td>\n",
       "      <td>14.099394</td>\n",
       "    </tr>\n",
       "    <tr>\n",
       "      <th>3</th>\n",
       "      <td>4.922637</td>\n",
       "      <td>14.711045</td>\n",
       "      <td>14.353010</td>\n",
       "      <td>42.909000</td>\n",
       "      <td>0.128189</td>\n",
       "      <td>47.727801</td>\n",
       "    </tr>\n",
       "    <tr>\n",
       "      <th>4</th>\n",
       "      <td>5.130077</td>\n",
       "      <td>14.110487</td>\n",
       "      <td>14.747146</td>\n",
       "      <td>48.227911</td>\n",
       "      <td>0.405335</td>\n",
       "      <td>39.790521</td>\n",
       "    </tr>\n",
       "  </tbody>\n",
       "</table>\n",
       "</div>"
      ],
      "text/plain": [
       "          x   y_actual  y_prediccion        SSR       SSD        SST\n",
       "0  1.146998   6.944500      7.179297   0.388400  0.055129   0.736188\n",
       "1  5.294382  14.526034     15.059326  52.661314  0.284400  45.205719\n",
       "2  3.207538  11.557430     11.094323  10.836006  0.214468  14.099394\n",
       "3  4.922637  14.711045     14.353010  42.909000  0.128189  47.727801\n",
       "4  5.130077  14.110487     14.747146  48.227911  0.405335  39.790521"
      ]
     },
     "execution_count": 232,
     "metadata": {},
     "output_type": "execute_result"
    }
   ],
   "source": [
    "df.head()"
   ]
  },
  {
   "cell_type": "code",
   "execution_count": 233,
   "id": "5c30060b",
   "metadata": {},
   "outputs": [],
   "source": [
    "SSR = sum(df['SSR'])\n",
    "SSD = sum(df['SSD'])\n",
    "SST = sum(df['SST'])"
   ]
  },
  {
   "cell_type": "code",
   "execution_count": 234,
   "id": "80a5b7f6",
   "metadata": {},
   "outputs": [
    {
     "data": {
      "text/plain": [
       "(4647.032631365089, 126.10261217592904, 4798.635264147323)"
      ]
     },
     "execution_count": 234,
     "metadata": {},
     "output_type": "execute_result"
    }
   ],
   "source": [
    "SSR, SSD, SST"
   ]
  },
  {
   "cell_type": "code",
   "execution_count": 235,
   "id": "97f9168c",
   "metadata": {},
   "outputs": [
    {
     "data": {
      "text/plain": [
       "4773.135243541018"
      ]
     },
     "execution_count": 235,
     "metadata": {},
     "output_type": "execute_result"
    }
   ],
   "source": [
    "SSR+SSD\n",
    "#esta suma deberia ser igual a SST, lo mas seguro es que la diferencia\n",
    "#sea por redondeo"
   ]
  },
  {
   "cell_type": "code",
   "execution_count": 236,
   "id": "8e6b482c",
   "metadata": {},
   "outputs": [
    {
     "data": {
      "text/plain": [
       "0.9684071356881565"
      ]
     },
     "execution_count": 236,
     "metadata": {},
     "output_type": "execute_result"
    }
   ],
   "source": [
    "R2 = SSR/SST\n",
    "R2"
   ]
  },
  {
   "cell_type": "code",
   "execution_count": 237,
   "id": "2a10b7b4",
   "metadata": {},
   "outputs": [
    {
     "data": {
      "text/plain": [
       "(array([ 6.,  7., 24., 39., 38., 26., 35., 14.,  6.,  5.]),\n",
       " array([-1.87495061, -1.47406546, -1.07318031, -0.67229516, -0.27141001,\n",
       "         0.12947514,  0.53036029,  0.93124544,  1.33213059,  1.73301574,\n",
       "         2.13390089]),\n",
       " <BarContainer object of 10 artists>)"
      ]
     },
     "execution_count": 237,
     "metadata": {},
     "output_type": "execute_result"
    },
    {
     "data": {
      "image/png": "[encoded data removed]",
      "text/plain": [
       "<Figure size 432x288 with 1 Axes>"
      ]
     },
     "metadata": {
      "needs_background": "light"
     },
     "output_type": "display_data"
    }
   ],
   "source": [
    "plt.hist(df['y_prediccion']-df['y_actual'])"
   ]
  },
  {
   "cell_type": "markdown",
   "id": "24a98060",
   "metadata": {},
   "source": [
    "* **Obteniendo α y ß**\n",
    "   \n",
    "α = y_mean - ß* x_mean\n",
    "    \n",
    "ß = cov(x,y) / Var(x)\n"
   ]
  },
  {
   "cell_type": "code",
   "execution_count": 238,
   "id": "8b9486f8",
   "metadata": {},
   "outputs": [
    {
     "data": {
      "text/plain": [
       "(1.4921297512140663, 7.802514141747495)"
      ]
     },
     "execution_count": 238,
     "metadata": {},
     "output_type": "execute_result"
    }
   ],
   "source": [
    "#Calculando los promedios\n",
    "\n",
    "x_mean = np.mean(df['x'])\n",
    "y_mean = np.mean(df['y_actual'])\n",
    "x_mean, y_mean"
   ]
  },
  {
   "cell_type": "code",
   "execution_count": 239,
   "id": "a1fe58d5",
   "metadata": {},
   "outputs": [],
   "source": [
    "df['cov'] = (df['x']-x_mean)*(df['y_actual']-y_meanp)\n",
    "df['var'] = (df['x']-x_mean)**2\n",
    "beta = sum(df['cov'])/sum(df['var'])"
   ]
  },
  {
   "cell_type": "code",
   "execution_count": 240,
   "id": "407d85dc",
   "metadata": {},
   "outputs": [],
   "source": [
    "alfa = y_meanp - beta * x_mean"
   ]
  },
  {
   "cell_type": "code",
   "execution_count": 241,
   "id": "efe67687",
   "metadata": {},
   "outputs": [
    {
     "data": {
      "text/plain": [
       "(5.085329702456956, 1.9052997942268695)"
      ]
     },
     "execution_count": 241,
     "metadata": {},
     "output_type": "execute_result"
    }
   ],
   "source": [
    "alfa, beta"
   ]
  },
  {
   "cell_type": "markdown",
   "id": "c30456c2",
   "metadata": {},
   "source": [
    "**Modelo lineal obtenido por regresion**\n",
    "\n",
    "            ye = alfa + beta * x"
   ]
  },
  {
   "cell_type": "code",
   "execution_count": 242,
   "id": "567c419a",
   "metadata": {},
   "outputs": [
    {
     "data": {
      "text/html": [
       "<div>\n",
       "<style scoped>\n",
       "    .dataframe tbody tr th:only-of-type {\n",
       "        vertical-align: middle;\n",
       "    }\n",
       "\n",
       "    .dataframe tbody tr th {\n",
       "        vertical-align: top;\n",
       "    }\n",
       "\n",
       "    .dataframe thead th {\n",
       "        text-align: right;\n",
       "    }\n",
       "</style>\n",
       "<table border=\"1\" class=\"dataframe\">\n",
       "  <thead>\n",
       "    <tr style=\"text-align: right;\">\n",
       "      <th></th>\n",
       "      <th>x</th>\n",
       "      <th>y_actual</th>\n",
       "      <th>y_prediccion</th>\n",
       "      <th>SSR</th>\n",
       "      <th>SSD</th>\n",
       "      <th>SST</th>\n",
       "      <th>cov</th>\n",
       "      <th>var</th>\n",
       "      <th>y_modelado</th>\n",
       "    </tr>\n",
       "  </thead>\n",
       "  <tbody>\n",
       "    <tr>\n",
       "      <th>0</th>\n",
       "      <td>1.146998</td>\n",
       "      <td>6.944500</td>\n",
       "      <td>7.179297</td>\n",
       "      <td>0.388400</td>\n",
       "      <td>0.055129</td>\n",
       "      <td>0.736188</td>\n",
       "      <td>0.339535</td>\n",
       "      <td>0.119116</td>\n",
       "      <td>7.270705</td>\n",
       "    </tr>\n",
       "    <tr>\n",
       "      <th>1</th>\n",
       "      <td>5.294382</td>\n",
       "      <td>14.526034</td>\n",
       "      <td>15.059326</td>\n",
       "      <td>52.661314</td>\n",
       "      <td>0.284400</td>\n",
       "      <td>45.205719</td>\n",
       "      <td>25.086309</td>\n",
       "      <td>14.457122</td>\n",
       "      <td>15.172715</td>\n",
       "    </tr>\n",
       "    <tr>\n",
       "      <th>2</th>\n",
       "      <td>3.207538</td>\n",
       "      <td>11.557430</td>\n",
       "      <td>11.094323</td>\n",
       "      <td>10.836006</td>\n",
       "      <td>0.214468</td>\n",
       "      <td>14.099394</td>\n",
       "      <td>6.225469</td>\n",
       "      <td>2.942627</td>\n",
       "      <td>11.196652</td>\n",
       "    </tr>\n",
       "    <tr>\n",
       "      <th>3</th>\n",
       "      <td>4.922637</td>\n",
       "      <td>14.711045</td>\n",
       "      <td>14.353010</td>\n",
       "      <td>42.909000</td>\n",
       "      <td>0.128189</td>\n",
       "      <td>47.727801</td>\n",
       "      <td>23.268311</td>\n",
       "      <td>11.768380</td>\n",
       "      <td>14.464429</td>\n",
       "    </tr>\n",
       "    <tr>\n",
       "      <th>4</th>\n",
       "      <td>5.130077</td>\n",
       "      <td>14.110487</td>\n",
       "      <td>14.747146</td>\n",
       "      <td>48.227911</td>\n",
       "      <td>0.405335</td>\n",
       "      <td>39.790521</td>\n",
       "      <td>22.490526</td>\n",
       "      <td>13.234659</td>\n",
       "      <td>14.859664</td>\n",
       "    </tr>\n",
       "  </tbody>\n",
       "</table>\n",
       "</div>"
      ],
      "text/plain": [
       "          x   y_actual  y_prediccion        SSR       SSD        SST  \\\n",
       "0  1.146998   6.944500      7.179297   0.388400  0.055129   0.736188   \n",
       "1  5.294382  14.526034     15.059326  52.661314  0.284400  45.205719   \n",
       "2  3.207538  11.557430     11.094323  10.836006  0.214468  14.099394   \n",
       "3  4.922637  14.711045     14.353010  42.909000  0.128189  47.727801   \n",
       "4  5.130077  14.110487     14.747146  48.227911  0.405335  39.790521   \n",
       "\n",
       "         cov        var  y_modelado  \n",
       "0   0.339535   0.119116    7.270705  \n",
       "1  25.086309  14.457122   15.172715  \n",
       "2   6.225469   2.942627   11.196652  \n",
       "3  23.268311  11.768380   14.464429  \n",
       "4  22.490526  13.234659   14.859664  "
      ]
     },
     "execution_count": 242,
     "metadata": {},
     "output_type": "execute_result"
    }
   ],
   "source": [
    "df['y_modelado'] = alfa + beta * df['x']\n",
    "df.head()"
   ]
  },
  {
   "cell_type": "code",
   "execution_count": 243,
   "id": "9c78db20",
   "metadata": {},
   "outputs": [],
   "source": [
    "SSR = sum((df['y_modelado']-y_meanp)**2)\n",
    "SSD = sum((df['y_modelado']-df['y_actual'])**2)\n",
    "SST = sum((df['y_actual']-y_meanp)**2)"
   ]
  },
  {
   "cell_type": "code",
   "execution_count": 244,
   "id": "9517c07c",
   "metadata": {},
   "outputs": [
    {
     "data": {
      "text/plain": [
       "(4672.7804780591805,\n",
       " 129.01840812216605,\n",
       " 4801.798886181344,\n",
       " 2.7284841053187847e-12)"
      ]
     },
     "execution_count": 244,
     "metadata": {},
     "output_type": "execute_result"
    }
   ],
   "source": [
    "SSR, SSD, SST, SSR+SSD-SST"
   ]
  },
  {
   "cell_type": "code",
   "execution_count": 245,
   "id": "df9c4d2e",
   "metadata": {},
   "outputs": [
    {
     "data": {
      "text/plain": [
       "(0.9684071356881565, 0.9731312345268243)"
      ]
     },
     "execution_count": 245,
     "metadata": {},
     "output_type": "execute_result"
    }
   ],
   "source": [
    "R2_b = SSR / SST\n",
    "R2, R2_b"
   ]
  },
  {
   "cell_type": "markdown",
   "id": "0b28493b",
   "metadata": {},
   "source": [
    "Con esto se puede observar que el modelo sufre una leve mejora, lo veremos graficamente "
   ]
  },
  {
   "cell_type": "code",
   "execution_count": 246,
   "id": "80b255a2",
   "metadata": {},
   "outputs": [
    {
     "data": {
      "text/plain": [
       "Text(0.5, 1.0, 'Valor Real vs Prediccion y modelado')"
      ]
     },
     "execution_count": 246,
     "metadata": {},
     "output_type": "execute_result"
    },
    {
     "data": {
      "image/png": "[encoded data removed]",
      "text/plain": [
       "<Figure size 432x288 with 1 Axes>"
      ]
     },
     "metadata": {
      "needs_background": "light"
     },
     "output_type": "display_data"
    }
   ],
   "source": [
    "plt.plot(df['x'], df['y_prediccion'])\n",
    "plt.plot(df['x'], df['y_actual'],'ro')\n",
    "plt.plot(df['x'], y_prom, 'g')\n",
    "plt.plot(df['x'], df['y_modelado'])\n",
    "plt.title('Valor Real vs Prediccion y modelado')"
   ]
  },
  {
   "cell_type": "code",
   "execution_count": null,
   "id": "7bdaaa0f",
   "metadata": {},
   "outputs": [],
   "source": []
  },
  {
   "cell_type": "code",
   "execution_count": null,
   "id": "bf3491ac",
   "metadata": {},
   "outputs": [],
   "source": []
  }
 ],
 "metadata": {
  "kernelspec": {
   "display_name": "Python 3 (ipykernel)",
   "language": "python",
   "name": "python3"
  },
  "language_info": {
   "codemirror_mode": {
    "name": "ipython",
    "version": 3
   },
   "file_extension": ".py",
   "mimetype": "text/x-python",
   "name": "python",
   "nbconvert_exporter": "python",
   "pygments_lexer": "ipython3",
   "version": "3.8.10"
  }
 },
 "nbformat": 4,
 "nbformat_minor": 5
}
