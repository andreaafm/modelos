{
 "cells": [
  {
   "cell_type": "markdown",
   "id": "c8ea6494",
   "metadata": {},
   "source": [
    "<h1 style=\"text-align:center;color:Green\">Regresion Lineal</h1>"
   ]
  },
  {
   "cell_type": "markdown",
   "id": "7bc41300",
   "metadata": {},
   "source": [
    "<h3 style=\"color:blue\">1. Modelo con datos simulados</h3>"
   ]
  },
  {
   "cell_type": "code",
   "execution_count": 88,
   "id": "fa4d0336",
   "metadata": {},
   "outputs": [],
   "source": [
    "import pandas as pd\n",
    "import numpy as np\n",
    "import matplotlib.pyplot as plt"
   ]
  },
  {
   "cell_type": "markdown",
   "id": "514b590f",
   "metadata": {},
   "source": [
    "* y = a + b*x\n",
    "* x: 200 valores N(1.5,2.5)\n",
    "* Ye = 5 + 1.9*x + e\n",
    "* e distribuida según N(o,0.8)"
   ]
  },
  {
   "cell_type": "code",
   "execution_count": 89,
   "id": "1adb14d4",
   "metadata": {},
   "outputs": [],
   "source": [
    "#N(1.5, 2.5)\n",
    "x = 1.5 + 2.5 * np.random.randn(200)"
   ]
  },
  {
   "cell_type": "code",
   "execution_count": 90,
   "id": "f2025be5",
   "metadata": {},
   "outputs": [],
   "source": [
    "#errores media 0 y desviacion tipica 0.8\n",
    "res = 0 + 0.8 * np.random.randn(200)"
   ]
  },
  {
   "cell_type": "code",
   "execution_count": 91,
   "id": "67b58030",
   "metadata": {},
   "outputs": [],
   "source": [
    "# prediccion (modelo lineal)\n",
    "y_pred = 5 + 1.9 * x"
   ]
  },
  {
   "cell_type": "code",
   "execution_count": 92,
   "id": "20fd68ef",
   "metadata": {},
   "outputs": [],
   "source": [
    "# actual (observacion real)\n",
    "y_act = 5 + 1.9 * x + res"
   ]
  },
  {
   "cell_type": "code",
   "execution_count": 93,
   "id": "dd7cbb70",
   "metadata": {},
   "outputs": [],
   "source": [
    "x_list = x.tolist()\n",
    "y_pred_list = y_pred.tolist()\n",
    "y_act_list = y_act.tolist()"
   ]
  },
  {
   "cell_type": "code",
   "execution_count": 94,
   "id": "0d0d8707",
   "metadata": {},
   "outputs": [],
   "source": [
    "df = pd.DataFrame(\n",
    "      {\n",
    "          'x' : x_list,\n",
    "          'y_actual' : y_act_list, \n",
    "          'y_prediccion' : y_pred_list\n",
    "      }\n",
    ")"
   ]
  },
  {
   "cell_type": "code",
   "execution_count": 95,
   "id": "ff165b08",
   "metadata": {
    "scrolled": true
   },
   "outputs": [
    {
     "data": {
      "text/html": [
       "<div>\n",
       "<style scoped>\n",
       "    .dataframe tbody tr th:only-of-type {\n",
       "        vertical-align: middle;\n",
       "    }\n",
       "\n",
       "    .dataframe tbody tr th {\n",
       "        vertical-align: top;\n",
       "    }\n",
       "\n",
       "    .dataframe thead th {\n",
       "        text-align: right;\n",
       "    }\n",
       "</style>\n",
       "<table border=\"1\" class=\"dataframe\">\n",
       "  <thead>\n",
       "    <tr style=\"text-align: right;\">\n",
       "      <th></th>\n",
       "      <th>x</th>\n",
       "      <th>y_actual</th>\n",
       "      <th>y_prediccion</th>\n",
       "    </tr>\n",
       "  </thead>\n",
       "  <tbody>\n",
       "    <tr>\n",
       "      <th>0</th>\n",
       "      <td>0.722234</td>\n",
       "      <td>7.798843</td>\n",
       "      <td>6.372245</td>\n",
       "    </tr>\n",
       "    <tr>\n",
       "      <th>1</th>\n",
       "      <td>2.063440</td>\n",
       "      <td>8.906743</td>\n",
       "      <td>8.920535</td>\n",
       "    </tr>\n",
       "    <tr>\n",
       "      <th>2</th>\n",
       "      <td>0.361228</td>\n",
       "      <td>4.446699</td>\n",
       "      <td>5.686333</td>\n",
       "    </tr>\n",
       "    <tr>\n",
       "      <th>3</th>\n",
       "      <td>7.124001</td>\n",
       "      <td>19.126873</td>\n",
       "      <td>18.535602</td>\n",
       "    </tr>\n",
       "    <tr>\n",
       "      <th>4</th>\n",
       "      <td>-4.228441</td>\n",
       "      <td>-1.484994</td>\n",
       "      <td>-3.034039</td>\n",
       "    </tr>\n",
       "  </tbody>\n",
       "</table>\n",
       "</div>"
      ],
      "text/plain": [
       "          x   y_actual  y_prediccion\n",
       "0  0.722234   7.798843      6.372245\n",
       "1  2.063440   8.906743      8.920535\n",
       "2  0.361228   4.446699      5.686333\n",
       "3  7.124001  19.126873     18.535602\n",
       "4 -4.228441  -1.484994     -3.034039"
      ]
     },
     "execution_count": 95,
     "metadata": {},
     "output_type": "execute_result"
    }
   ],
   "source": [
    "df.head()"
   ]
  },
  {
   "cell_type": "code",
   "execution_count": 96,
   "id": "68bb353c",
   "metadata": {},
   "outputs": [],
   "source": [
    "y_mean = [np.mean(y_act) for i in range(1, len(x_list)+1)]"
   ]
  },
  {
   "cell_type": "code",
   "execution_count": 97,
   "id": "473c87d7",
   "metadata": {},
   "outputs": [
    {
     "data": {
      "text/plain": [
       "Text(0.5, 1.0, 'Valor Real vs Prediccion')"
      ]
     },
     "execution_count": 97,
     "metadata": {},
     "output_type": "execute_result"
    },
    {
     "data": {
      "image/png": "[encoded data removed]",
      "text/plain": [
       "<Figure size 432x288 with 1 Axes>"
      ]
     },
     "metadata": {
      "needs_background": "light"
     },
     "output_type": "display_data"
    }
   ],
   "source": [
    "%matplotlib inline\n",
    "plt.plot(x, y_pred)\n",
    "plt.plot(x, y_act, 'ro') #grafica de puntos\n",
    "plt.plot(x, y_mean, 'g')\n",
    "plt.title('Valor Real vs Prediccion')"
   ]
  },
  {
   "cell_type": "markdown",
   "id": "18266e68",
   "metadata": {},
   "source": [
    "**Uno de los indicadores que nos permite saber la efectividad del modelo es R2 para poder obtenerlo incorporaremos al df:**\n",
    "\n",
    "   * Suma de los cuadrados de la regresion\n",
    "   * Suma de los cuadrados de la diferencia\n",
    "   * Suma de los cuadrados totales"
   ]
  },
  {
   "cell_type": "code",
   "execution_count": 98,
   "id": "9922fc36",
   "metadata": {},
   "outputs": [],
   "source": [
    "df['SSR'] = (df['y_prediccion']-np.mean(y_act))**2\n",
    "df['SSD'] = (df['y_prediccion']-df['y_actual'])**2\n",
    "df['SST'] = (df['y_actual']-np.mean(y_act))**2"
   ]
  },
  {
   "cell_type": "code",
   "execution_count": 99,
   "id": "8e07ee60",
   "metadata": {},
   "outputs": [
    {
     "data": {
      "text/html": [
       "<div>\n",
       "<style scoped>\n",
       "    .dataframe tbody tr th:only-of-type {\n",
       "        vertical-align: middle;\n",
       "    }\n",
       "\n",
       "    .dataframe tbody tr th {\n",
       "        vertical-align: top;\n",
       "    }\n",
       "\n",
       "    .dataframe thead th {\n",
       "        text-align: right;\n",
       "    }\n",
       "</style>\n",
       "<table border=\"1\" class=\"dataframe\">\n",
       "  <thead>\n",
       "    <tr style=\"text-align: right;\">\n",
       "      <th></th>\n",
       "      <th>x</th>\n",
       "      <th>y_actual</th>\n",
       "      <th>y_prediccion</th>\n",
       "      <th>SSR</th>\n",
       "      <th>SSD</th>\n",
       "      <th>SST</th>\n",
       "    </tr>\n",
       "  </thead>\n",
       "  <tbody>\n",
       "    <tr>\n",
       "      <th>0</th>\n",
       "      <td>0.722234</td>\n",
       "      <td>7.798843</td>\n",
       "      <td>6.372245</td>\n",
       "      <td>1.857036</td>\n",
       "      <td>2.035184</td>\n",
       "      <td>0.004079</td>\n",
       "    </tr>\n",
       "    <tr>\n",
       "      <th>1</th>\n",
       "      <td>2.063440</td>\n",
       "      <td>8.906743</td>\n",
       "      <td>8.920535</td>\n",
       "      <td>1.405552</td>\n",
       "      <td>0.000190</td>\n",
       "      <td>1.373038</td>\n",
       "    </tr>\n",
       "    <tr>\n",
       "      <th>2</th>\n",
       "      <td>0.361228</td>\n",
       "      <td>4.446699</td>\n",
       "      <td>5.686333</td>\n",
       "      <td>4.196938</td>\n",
       "      <td>1.536691</td>\n",
       "      <td>10.812762</td>\n",
       "    </tr>\n",
       "    <tr>\n",
       "      <th>3</th>\n",
       "      <td>7.124001</td>\n",
       "      <td>19.126873</td>\n",
       "      <td>18.535602</td>\n",
       "      <td>116.653533</td>\n",
       "      <td>0.349602</td>\n",
       "      <td>129.775334</td>\n",
       "    </tr>\n",
       "    <tr>\n",
       "      <th>4</th>\n",
       "      <td>-4.228441</td>\n",
       "      <td>-1.484994</td>\n",
       "      <td>-3.034039</td>\n",
       "      <td>115.971666</td>\n",
       "      <td>2.399538</td>\n",
       "      <td>85.007847</td>\n",
       "    </tr>\n",
       "  </tbody>\n",
       "</table>\n",
       "</div>"
      ],
      "text/plain": [
       "          x   y_actual  y_prediccion         SSR       SSD         SST\n",
       "0  0.722234   7.798843      6.372245    1.857036  2.035184    0.004079\n",
       "1  2.063440   8.906743      8.920535    1.405552  0.000190    1.373038\n",
       "2  0.361228   4.446699      5.686333    4.196938  1.536691   10.812762\n",
       "3  7.124001  19.126873     18.535602  116.653533  0.349602  129.775334\n",
       "4 -4.228441  -1.484994     -3.034039  115.971666  2.399538   85.007847"
      ]
     },
     "execution_count": 99,
     "metadata": {},
     "output_type": "execute_result"
    }
   ],
   "source": [
    "df.head()"
   ]
  },
  {
   "cell_type": "code",
   "execution_count": 100,
   "id": "4c103d0f",
   "metadata": {},
   "outputs": [],
   "source": [
    "SSR = sum(df['SSR'])\n",
    "SSD = sum(df['SSD'])\n",
    "SST = sum(df['SST'])"
   ]
  },
  {
   "cell_type": "code",
   "execution_count": 101,
   "id": "3734b8fb",
   "metadata": {},
   "outputs": [
    {
     "data": {
      "text/plain": [
       "(4194.577738496107, 138.9265899409172, 4346.665895901031)"
      ]
     },
     "execution_count": 101,
     "metadata": {},
     "output_type": "execute_result"
    }
   ],
   "source": [
    "SSR, SSD, SST"
   ]
  },
  {
   "cell_type": "code",
   "execution_count": 105,
   "id": "fd361629",
   "metadata": {},
   "outputs": [
    {
     "data": {
      "text/plain": [
       "4333.504328437024"
      ]
     },
     "execution_count": 105,
     "metadata": {},
     "output_type": "execute_result"
    }
   ],
   "source": [
    "SSR+SSD\n",
    "#esta suma deberia ser igual a SST, lo mas seguro es que la diferencia\n",
    "#sea por redondeo"
   ]
  },
  {
   "cell_type": "code",
   "execution_count": 103,
   "id": "255df0f2",
   "metadata": {},
   "outputs": [
    {
     "data": {
      "text/plain": [
       "0.9650103870305868"
      ]
     },
     "execution_count": 103,
     "metadata": {},
     "output_type": "execute_result"
    }
   ],
   "source": [
    "R2 = SSR/SST\n",
    "R2"
   ]
  },
  {
   "cell_type": "code",
   "execution_count": 104,
   "id": "f8d8e7d7",
   "metadata": {},
   "outputs": [
    {
     "data": {
      "text/plain": [
       "(array([ 6., 17., 16., 41., 39., 40., 21., 11.,  8.,  1.]),\n",
       " array([-1.97171493, -1.53525176, -1.09878859, -0.66232542, -0.22586226,\n",
       "         0.21060091,  0.64706408,  1.08352725,  1.51999041,  1.95645358,\n",
       "         2.39291675]),\n",
       " <BarContainer object of 10 artists>)"
      ]
     },
     "execution_count": 104,
     "metadata": {},
     "output_type": "execute_result"
    },
    {
     "data": {
      "image/png": "[encoded data removed]",
      "text/plain": [
       "<Figure size 432x288 with 1 Axes>"
      ]
     },
     "metadata": {
      "needs_background": "light"
     },
     "output_type": "display_data"
    }
   ],
   "source": [
    "plt.hist(df['y_prediccion']-df['y_actual'])"
   ]
  },
  {
   "cell_type": "code",
   "execution_count": null,
   "id": "05c84e21",
   "metadata": {},
   "outputs": [],
   "source": []
  }
 ],
 "metadata": {
  "kernelspec": {
   "display_name": "Python 3 (ipykernel)",
   "language": "python",
   "name": "python3"
  },
  "language_info": {
   "codemirror_mode": {
    "name": "ipython",
    "version": 3
   },
   "file_extension": ".py",
   "mimetype": "text/x-python",
   "name": "python",
   "nbconvert_exporter": "python",
   "pygments_lexer": "ipython3",
   "version": "3.8.10"
  }
 },
 "nbformat": 4,
 "nbformat_minor": 5
}
